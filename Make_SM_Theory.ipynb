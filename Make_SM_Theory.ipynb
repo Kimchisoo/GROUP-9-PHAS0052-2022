{
  "nbformat": 4,
  "nbformat_minor": 0,
  "metadata": {
    "colab": {
      "provenance": [],
      "authorship_tag": "ABX9TyOMPuYpDzAqE5EYT08JydQp",
      "include_colab_link": true
    },
    "kernelspec": {
      "name": "python3",
      "display_name": "Python 3"
    },
    "language_info": {
      "name": "python"
    }
  },
  "cells": [
    {
      "cell_type": "markdown",
      "metadata": {
        "id": "view-in-github",
        "colab_type": "text"
      },
      "source": [
        "<a href=\"https://colab.research.google.com/github/shaunboodram/GROUP-9-PHAS0052-2022/blob/main/Make_SM_Theory.ipynb\" target=\"_parent\"><img src=\"https://colab.research.google.com/assets/colab-badge.svg\" alt=\"Open In Colab\"/></a>"
      ]
    },
    {
      "cell_type": "code",
      "execution_count": null,
      "metadata": {
        "id": "VSKUNTVcf78u"
      },
      "outputs": [],
      "source": [
        "import numpy as np\n",
        "import os\n",
        "import yoda\n",
        "\n",
        "\n",
        "f = \"/unix/cedar/xwang/contur/OpenLoops/sherpa/ATLAS_2019_I1764342.yoda\"        # path to the yoda file\n",
        "aos = yoda.read(f)\n",
        "ao_2dScatter = []\n",
        "for path, ao in aos.items():\n",
        "    ao.setPath(\"/THY/\"+path[1:])\n",
        "    ao2d = ao.mkScatter()              # convert Histo1D to Scatter2D, then calculate weight contribution\n",
        "    ao_2dScatter.append(ao2d)\n",
        "yoda.write(ao_2dScatter,\"ATLAS_2019_I1764342-Scatter2D.yoda\")    # write scatter 2D yoda file\n",
        "\n",
        "y_values = []\n",
        "aoss = yoda.read(\"ATLAS_2019_I1764342-Scatter2D.yoda\")  \n",
        "for path, a in aoss.items():\n",
        "    if type(a) == yoda.core.Scatter1D:           # scatter 1D object does not have y value\n",
        "       break\n",
        "    y_values.append(a.yVals())      \n",
        "    with open(\"ATLAS_2019_I1764342-Scatter2D.yoda\", \"r+\") as f:\n",
        "        \n",
        "        # empty lists for all/upper/lower errors for different d0x\n",
        "        All = []     \n",
        "        Upper = []    \n",
        "        Lower = []     \n",
        "        \n",
        "        n_list = np.array([0,17,34,51,68,85])            # index of nominal values\n",
        "        var_list = np.array([2,3,4,5,6,7,8,9,10,11,12,13,14,16])   # index of weights, exclude MEWeight and NTrial (MC event generator weights)\n",
        "        for n in n_list:                 # path, d02 ~ d07\n",
        "            for var in var_list+n:    # weights\n",
        "                new_val = y_values[var]   # weighted values\n",
        "                nominal_val = y_values[n]  # nominal value\n",
        "                all_errors = (new_val - nominal_val)**2 #it was new_val - nominal_val for last test, need to check if the diff is between nominal and value or average and value\n",
        "                \n",
        "                if new_val >= nominal_val:\n",
        "                    upperErrors = (new_val - nominal_val)**2\n",
        "                else:\n",
        "                    lowerErrors = (new_val - nominal_val)**2\n",
        "                \n",
        "                # all/upper/lower errors with specific d0x and all weights\n",
        "                a.append(all_errors)     \n",
        "                u.append(upperErrors)\n",
        "                l.append(lowerErrors)\n",
        "            # put all/upper/lower errors with different d0x and variation to the list\n",
        "            all += [a]                  \n",
        "            upper += [u]\n",
        "            lower += [l]\n",
        "            # number of all/upper/lower errors, exclude 0 terms\n",
        "            All_len.append(len(list(filter((0).__ne__,a))))\n",
        "            Upper_len.append(len(list(filter((0).__ne__,u))))\n",
        "            Lower_len.append(len(list(filter((0).__ne__,l))))\n",
        "            # sum all the varition contribution for each d0x\n",
        "            All = np.sum(all[path.index('d')])\n",
        "            Upper = np.sum(upper[path.index('d')])\n",
        "            Lower = np.sum(lower[path.index('d')])\n",
        "            # clear all/upper/lower errors lists with specific d0x to run a new list of the next d0x \n",
        "            a = []                                          \n",
        "            u = []                   \n",
        "            l = []\n",
        "        \n",
        "            if (np.all(Upper[path.index('d')])!=0):\n",
        "                upperRMS = (abs(Upper[path.index('d')])/Upper_len[path.index('d')])**0.5\n",
        "            else:\n",
        "                upperRMS = 0.\n",
        "            if (np.all(Lower[path.index('d')])!=0):\n",
        "                lowerRMS = (abs(L[path.index('d')])/Llen[path.index('d')])**0.5\n",
        "            else:\n",
        "                lowerRMS = 0.\n",
        "            if (A[path.index('d')]!=0):\n",
        "                allRMS = (abs(A[path.index('d')])/Alen[path.index('d')])**0.5\n",
        "                print(A[path.index('d')])\n",
        "            else:\n",
        "                allRMS = 0.\n",
        "            #### set yval and yerr+-\n",
        "            a.setYErrs(upperRMS,lowerRMS)\n",
        "            a.setTitle(prediction.short_description)\n",
        "            anaObjects.append(a)\n",
        "d = [anaObjects[0],anaObjects[17],anaObjects[34],anaObjects[51],anaObjects[68],anaObjects[85]]\n",
        "yoda.write(anaObjects,\"ATLAS_2019_I1764342-new.yoda\")"
      ]
    }
  ]
}